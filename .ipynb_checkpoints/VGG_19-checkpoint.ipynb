{
 "cells": [
  {
   "cell_type": "markdown",
   "metadata": {},
   "source": [
    "<h1> Detection Of Retinal Diseases </h1>\n",
    "<h3> Using OCT Scan Images </h3>"
   ]
  },
  {
   "cell_type": "code",
   "execution_count": 1,
   "metadata": {
    "_cell_guid": "b1076dfc-b9ad-4769-8c92-a6c4dae69d19",
    "_uuid": "8f2839f25d086af736a60e9eeb907d3b93b6e0e5"
   },
   "outputs": [],
   "source": [
    "import os\n",
    "from glob import glob\n",
    "import pandas as pd\n",
    "import numpy as np\n",
    "from numpy import expand_dims\n",
    "import matplotlib.pyplot as plt\n",
    "import matplotlib.image as mpimg\n",
    "import seaborn as sn\n",
    "from skimage.transform import resize\n",
    "from skimage.color import gray2rgb\n",
    "from sklearn.metrics import classification_report, confusion_matrix\n",
    "from sklearn.metrics import cohen_kappa_score\n",
    "from sklearn.metrics import roc_auc_score, roc_curve\n",
    "from IPython.display import SVG\n",
    "\n",
    "from tensorflow import keras\n",
    "from tensorflow.keras import applications, optimizers\n",
    "from tensorflow.keras.models import Model, Sequential, load_model\n",
    "from tensorflow.keras.preprocessing.image import ImageDataGenerator, load_img, img_to_array\n",
    "from tensorflow.keras.layers import Dense, Flatten, Dropout\n",
    "from tensorflow.keras.applications.vgg16 import VGG16, preprocess_input\n",
    "from tensorflow.keras.utils import to_categorical, model_to_dot, plot_model\n",
    "from tensorflow.keras.callbacks import ModelCheckpoint, EarlyStopping, CSVLogger, ReduceLROnPlateau\n"
   ]
  },
  {
   "cell_type": "markdown",
   "metadata": {},
   "source": [
    "<h2> Data preprocessing </h2>"
   ]
  },
  {
   "cell_type": "code",
   "execution_count": 2,
   "metadata": {
    "_cell_guid": "79c7e3d0-c299-4dcb-8224-4455121ee9b0",
    "_uuid": "d629ff2d2480ee46fbb7e2d37f6b5fab8052498a"
   },
   "outputs": [],
   "source": [
    "data_dir = './tcga_coad_msi_mss/'\n",
    "train_data_dir= './tcga_coad_msi_mss/train'\n",
    "val_data_dir= './tcga_coad_msi_mss/val'\n",
    "test_data_dir= './tcga_coad_msi_mss/test'\n",
    "\n",
    "img_width, img_height = 150, 150 \n",
    "channels = 3\n",
    "batch_size = 32"
   ]
  },
  {
   "cell_type": "code",
   "execution_count": 3,
   "metadata": {},
   "outputs": [],
   "source": [
    "train_datagen = ImageDataGenerator(\n",
    "    rescale= 1./255,\n",
    "    zoom_range= (0.73, 0.9),\n",
    "    horizontal_flip= True,\n",
    "    rotation_range= 10,\n",
    "    width_shift_range= 0.10,\n",
    "    fill_mode= 'constant',\n",
    "    height_shift_range= 0.10,   \n",
    "    brightness_range= (0.55, 0.9),\n",
    ")\n",
    "\n",
    "valid_test_datagen = ImageDataGenerator(\n",
    "    rescale= 1./255, \n",
    ")"
   ]
  },
  {
   "cell_type": "code",
   "execution_count": 4,
   "metadata": {},
   "outputs": [
    {
     "name": "stdout",
     "output_type": "stream",
     "text": [
      "Found 153849 images belonging to 2 classes.\n",
      "Found 19230 images belonging to 2 classes.\n",
      "Found 19233 images belonging to 2 classes.\n"
     ]
    }
   ],
   "source": [
    "train_generator = train_datagen.flow_from_directory(  \n",
    "    train_data_dir,  \n",
    "    target_size= (img_width, img_height), \n",
    "    color_mode= 'rgb',\n",
    "    batch_size= batch_size,  \n",
    "    class_mode= 'categorical',\n",
    "    shuffle= True, \n",
    "    seed= 1337\n",
    ")\n",
    "\n",
    "valid_generator = valid_test_datagen.flow_from_directory(\n",
    "    val_data_dir,\n",
    "    target_size= (img_width, img_height),\n",
    "    color_mode= 'rgb',\n",
    "    batch_size= batch_size,  \n",
    "    class_mode= 'categorical',\n",
    "    shuffle= True, \n",
    "    seed= 1337\n",
    ")\n",
    "\n",
    "test_generator = valid_test_datagen.flow_from_directory(  \n",
    "    test_data_dir,  \n",
    "    target_size= (img_width, img_height), \n",
    "    color_mode= 'rgb',\n",
    "    batch_size= batch_size,        \n",
    "    class_mode= 'categorical',\n",
    "    shuffle= False, \n",
    ")"
   ]
  },
  {
   "cell_type": "markdown",
   "metadata": {},
   "source": [
    "<h2> VGG-19 Model, with Transfer Learning </h2>"
   ]
  },
  {
   "cell_type": "code",
   "execution_count": 5,
   "metadata": {},
   "outputs": [],
   "source": [
    "num_classes = len(train_generator.class_indices)  \n",
    "train_labels = train_generator.classes \n",
    "train_labels = to_categorical(train_labels, num_classes=num_classes)\n",
    "valid_labels = valid_generator.classes \n",
    "valid_labels = to_categorical(valid_labels, num_classes=num_classes)\n",
    "nb_train_samples = len(train_generator.filenames)  \n",
    "nb_valid_samples = len(valid_generator.filenames)\n",
    "nb_test_samples = len(test_generator.filenames)"
   ]
  },
  {
   "cell_type": "code",
   "execution_count": 6,
   "metadata": {},
   "outputs": [
    {
     "name": "stdout",
     "output_type": "stream",
     "text": [
      "Model: \"vgg19\"\n",
      "_________________________________________________________________\n",
      "Layer (type)                 Output Shape              Param #   \n",
      "=================================================================\n",
      "input_1 (InputLayer)         [(None, 150, 150, 3)]     0         \n",
      "_________________________________________________________________\n",
      "block1_conv1 (Conv2D)        (None, 150, 150, 64)      1792      \n",
      "_________________________________________________________________\n",
      "block1_conv2 (Conv2D)        (None, 150, 150, 64)      36928     \n",
      "_________________________________________________________________\n",
      "block1_pool (MaxPooling2D)   (None, 75, 75, 64)        0         \n",
      "_________________________________________________________________\n",
      "block2_conv1 (Conv2D)        (None, 75, 75, 128)       73856     \n",
      "_________________________________________________________________\n",
      "block2_conv2 (Conv2D)        (None, 75, 75, 128)       147584    \n",
      "_________________________________________________________________\n",
      "block2_pool (MaxPooling2D)   (None, 37, 37, 128)       0         \n",
      "_________________________________________________________________\n",
      "block3_conv1 (Conv2D)        (None, 37, 37, 256)       295168    \n",
      "_________________________________________________________________\n",
      "block3_conv2 (Conv2D)        (None, 37, 37, 256)       590080    \n",
      "_________________________________________________________________\n",
      "block3_conv3 (Conv2D)        (None, 37, 37, 256)       590080    \n",
      "_________________________________________________________________\n",
      "block3_conv4 (Conv2D)        (None, 37, 37, 256)       590080    \n",
      "_________________________________________________________________\n",
      "block3_pool (MaxPooling2D)   (None, 18, 18, 256)       0         \n",
      "_________________________________________________________________\n",
      "block4_conv1 (Conv2D)        (None, 18, 18, 512)       1180160   \n",
      "_________________________________________________________________\n",
      "block4_conv2 (Conv2D)        (None, 18, 18, 512)       2359808   \n",
      "_________________________________________________________________\n",
      "block4_conv3 (Conv2D)        (None, 18, 18, 512)       2359808   \n",
      "_________________________________________________________________\n",
      "block4_conv4 (Conv2D)        (None, 18, 18, 512)       2359808   \n",
      "_________________________________________________________________\n",
      "block4_pool (MaxPooling2D)   (None, 9, 9, 512)         0         \n",
      "_________________________________________________________________\n",
      "block5_conv1 (Conv2D)        (None, 9, 9, 512)         2359808   \n",
      "_________________________________________________________________\n",
      "block5_conv2 (Conv2D)        (None, 9, 9, 512)         2359808   \n",
      "_________________________________________________________________\n",
      "block5_conv3 (Conv2D)        (None, 9, 9, 512)         2359808   \n",
      "_________________________________________________________________\n",
      "block5_conv4 (Conv2D)        (None, 9, 9, 512)         2359808   \n",
      "_________________________________________________________________\n",
      "block5_pool (MaxPooling2D)   (None, 4, 4, 512)         0         \n",
      "=================================================================\n",
      "Total params: 20,024,384\n",
      "Trainable params: 20,024,384\n",
      "Non-trainable params: 0\n",
      "_________________________________________________________________\n"
     ]
    }
   ],
   "source": [
    "from tensorflow.keras.applications.vgg19 import VGG19\n",
    "\n",
    "vgg19 = VGG19(include_top= False, input_shape= (img_width, img_height, channels), weights= 'imagenet')\n",
    "vgg19.summary()"
   ]
  },
  {
   "cell_type": "code",
   "execution_count": 7,
   "metadata": {},
   "outputs": [
    {
     "name": "stdout",
     "output_type": "stream",
     "text": [
      "Model: \"sequential\"\n",
      "_________________________________________________________________\n",
      "Layer (type)                 Output Shape              Param #   \n",
      "=================================================================\n",
      "block1_conv1 (Conv2D)        (None, 150, 150, 64)      1792      \n",
      "_________________________________________________________________\n",
      "block1_conv2 (Conv2D)        (None, 150, 150, 64)      36928     \n",
      "_________________________________________________________________\n",
      "block1_pool (MaxPooling2D)   (None, 75, 75, 64)        0         \n",
      "_________________________________________________________________\n",
      "block2_conv1 (Conv2D)        (None, 75, 75, 128)       73856     \n",
      "_________________________________________________________________\n",
      "block2_conv2 (Conv2D)        (None, 75, 75, 128)       147584    \n",
      "_________________________________________________________________\n",
      "block2_pool (MaxPooling2D)   (None, 37, 37, 128)       0         \n",
      "_________________________________________________________________\n",
      "block3_conv1 (Conv2D)        (None, 37, 37, 256)       295168    \n",
      "_________________________________________________________________\n",
      "block3_conv2 (Conv2D)        (None, 37, 37, 256)       590080    \n",
      "_________________________________________________________________\n",
      "block3_conv3 (Conv2D)        (None, 37, 37, 256)       590080    \n",
      "_________________________________________________________________\n",
      "block3_conv4 (Conv2D)        (None, 37, 37, 256)       590080    \n",
      "_________________________________________________________________\n",
      "block3_pool (MaxPooling2D)   (None, 18, 18, 256)       0         \n",
      "_________________________________________________________________\n",
      "block4_conv1 (Conv2D)        (None, 18, 18, 512)       1180160   \n",
      "_________________________________________________________________\n",
      "block4_conv2 (Conv2D)        (None, 18, 18, 512)       2359808   \n",
      "_________________________________________________________________\n",
      "block4_conv3 (Conv2D)        (None, 18, 18, 512)       2359808   \n",
      "_________________________________________________________________\n",
      "block4_conv4 (Conv2D)        (None, 18, 18, 512)       2359808   \n",
      "_________________________________________________________________\n",
      "block4_pool (MaxPooling2D)   (None, 9, 9, 512)         0         \n",
      "_________________________________________________________________\n",
      "block5_conv1 (Conv2D)        (None, 9, 9, 512)         2359808   \n",
      "_________________________________________________________________\n",
      "block5_conv2 (Conv2D)        (None, 9, 9, 512)         2359808   \n",
      "_________________________________________________________________\n",
      "block5_conv3 (Conv2D)        (None, 9, 9, 512)         2359808   \n",
      "_________________________________________________________________\n",
      "block5_conv4 (Conv2D)        (None, 9, 9, 512)         2359808   \n",
      "_________________________________________________________________\n",
      "block5_pool (MaxPooling2D)   (None, 4, 4, 512)         0         \n",
      "_________________________________________________________________\n",
      "flatten (Flatten)            (None, 8192)              0         \n",
      "_________________________________________________________________\n",
      "dropout (Dropout)            (None, 8192)              0         \n",
      "_________________________________________________________________\n",
      "dense (Dense)                (None, 2)                 16386     \n",
      "=================================================================\n",
      "Total params: 20,040,770\n",
      "Trainable params: 20,040,770\n",
      "Non-trainable params: 0\n",
      "_________________________________________________________________\n"
     ]
    }
   ],
   "source": [
    "model = Sequential()\n",
    "\n",
    "for layer in vgg19.layers:\n",
    "    model.add(layer)\n",
    "\n",
    "model.add(Flatten(input_shape= (4, 4, 512)))\n",
    "model.add(Dropout(0.2))\n",
    "model.add(Dense(2,activation='softmax'))\n",
    "\n",
    "model.summary()"
   ]
  },
  {
   "cell_type": "code",
   "execution_count": 8,
   "metadata": {},
   "outputs": [],
   "source": [
    "model.compile(optimizer= keras.optimizers.Adam(1e-5), loss= 'categorical_crossentropy', metrics= ['accuracy'])"
   ]
  },
  {
   "cell_type": "markdown",
   "metadata": {},
   "source": [
    "<h2> Training Phase </h2>"
   ]
  },
  {
   "cell_type": "code",
   "execution_count": 9,
   "metadata": {},
   "outputs": [
    {
     "name": "stdout",
     "output_type": "stream",
     "text": [
      "WARNING:tensorflow:`period` argument is deprecated. Please use `save_freq` to specify the frequency in number of samples seen.\n"
     ]
    }
   ],
   "source": [
    "checkpoint = ModelCheckpoint(\n",
    "    'vgg19_model_first.h5',\n",
    "    monitor='loss',\n",
    "    verbose=1,\n",
    "    save_best_only=True,\n",
    "    mode='auto',\n",
    "    save_weights_only=False,\n",
    "    period=1\n",
    ")\n",
    "\n",
    "earlystop = EarlyStopping(\n",
    "    monitor='loss',\n",
    "    min_delta=0.001,\n",
    "    patience=3,\n",
    "    verbose=1,\n",
    "    mode='auto'\n",
    ")\n",
    "\n",
    "\n",
    "callbacks = [checkpoint, earlystop]"
   ]
  },
  {
   "cell_type": "code",
   "execution_count": 10,
   "metadata": {},
   "outputs": [],
   "source": [
    "# model.load_weights('finetuned_model_last.h5')                   #same model is trained for 2"
   ]
  },
  {
   "cell_type": "code",
   "execution_count": null,
   "metadata": {},
   "outputs": [
    {
     "name": "stdout",
     "output_type": "stream",
     "text": [
      "WARNING:tensorflow:sample_weight modes were coerced from\n",
      "  ...\n",
      "    to  \n",
      "  ['...']\n",
      "WARNING:tensorflow:sample_weight modes were coerced from\n",
      "  ...\n",
      "    to  \n",
      "  ['...']\n",
      "Train for 4807 steps, validate for 600 steps\n",
      "Epoch 1/50\n",
      "4806/4807 [============================>.] - ETA: 0s - loss: 0.5725 - accuracy: 0.6979\n",
      "Epoch 00001: loss improved from inf to 0.57249, saving model to vgg19_model_first.h5\n",
      "4807/4807 [==============================] - 2787s 580ms/step - loss: 0.5725 - accuracy: 0.6979 - val_loss: 0.5399 - val_accuracy: 0.7191\n",
      "Epoch 2/50\n",
      "4806/4807 [============================>.] - ETA: 0s - loss: 0.4597 - accuracy: 0.7805\n",
      "Epoch 00002: loss improved from 0.57249 to 0.45965, saving model to vgg19_model_first.h5\n",
      "4807/4807 [==============================] - 2366s 492ms/step - loss: 0.4597 - accuracy: 0.7805 - val_loss: 0.6180 - val_accuracy: 0.7440\n",
      "Epoch 3/50\n",
      "4806/4807 [============================>.] - ETA: 0s - loss: 0.3994 - accuracy: 0.8167\n",
      "Epoch 00003: loss improved from 0.45965 to 0.39937, saving model to vgg19_model_first.h5\n",
      "4807/4807 [==============================] - 2367s 492ms/step - loss: 0.3994 - accuracy: 0.8168 - val_loss: 0.4401 - val_accuracy: 0.7998\n",
      "Epoch 4/50\n",
      "4806/4807 [============================>.] - ETA: 0s - loss: 0.3567 - accuracy: 0.8380\n",
      "Epoch 00004: loss improved from 0.39937 to 0.35670, saving model to vgg19_model_first.h5\n",
      "4807/4807 [==============================] - 2362s 491ms/step - loss: 0.3567 - accuracy: 0.8380 - val_loss: 0.5880 - val_accuracy: 0.7846\n",
      "Epoch 5/50\n",
      "4806/4807 [============================>.] - ETA: 0s - loss: 0.3250 - accuracy: 0.8553\n",
      "Epoch 00005: loss improved from 0.35670 to 0.32494, saving model to vgg19_model_first.h5\n",
      "4807/4807 [==============================] - 2355s 490ms/step - loss: 0.3249 - accuracy: 0.8553 - val_loss: 0.6750 - val_accuracy: 0.7542\n",
      "Epoch 6/50\n",
      "4806/4807 [============================>.] - ETA: 0s - loss: 0.2969 - accuracy: 0.8681\n",
      "Epoch 00006: loss improved from 0.32494 to 0.29694, saving model to vgg19_model_first.h5\n",
      "4807/4807 [==============================] - 2348s 488ms/step - loss: 0.2969 - accuracy: 0.8681 - val_loss: 0.6407 - val_accuracy: 0.7744\n",
      "Epoch 7/50\n",
      "4806/4807 [============================>.] - ETA: 0s - loss: 0.2766 - accuracy: 0.8789\n",
      "Epoch 00007: loss improved from 0.29694 to 0.27664, saving model to vgg19_model_first.h5\n",
      "4807/4807 [==============================] - 2348s 488ms/step - loss: 0.2766 - accuracy: 0.8789 - val_loss: 0.5510 - val_accuracy: 0.7898\n",
      "Epoch 8/50\n",
      "4806/4807 [============================>.] - ETA: 0s - loss: 0.2565 - accuracy: 0.8877\n",
      "Epoch 00008: loss improved from 0.27664 to 0.25652, saving model to vgg19_model_first.h5\n",
      "4807/4807 [==============================] - 2353s 489ms/step - loss: 0.2565 - accuracy: 0.8877 - val_loss: 0.6234 - val_accuracy: 0.7983\n",
      "Epoch 9/50\n",
      "4806/4807 [============================>.] - ETA: 0s - loss: 0.2381 - accuracy: 0.8975\n",
      "Epoch 00009: loss improved from 0.25652 to 0.23810, saving model to vgg19_model_first.h5\n",
      "4807/4807 [==============================] - 2350s 489ms/step - loss: 0.2381 - accuracy: 0.8975 - val_loss: 0.6010 - val_accuracy: 0.7969\n",
      "Epoch 10/50\n",
      "4806/4807 [============================>.] - ETA: 0s - loss: 0.2234 - accuracy: 0.9039\n",
      "Epoch 00010: loss improved from 0.23810 to 0.22340, saving model to vgg19_model_first.h5\n",
      "4807/4807 [==============================] - 2346s 488ms/step - loss: 0.2234 - accuracy: 0.9039 - val_loss: 0.5644 - val_accuracy: 0.7997\n",
      "Epoch 11/50\n",
      "4806/4807 [============================>.] - ETA: 0s - loss: 0.2079 - accuracy: 0.9116\n",
      "Epoch 00011: loss improved from 0.22340 to 0.20795, saving model to vgg19_model_first.h5\n",
      "4807/4807 [==============================] - 2339s 487ms/step - loss: 0.2080 - accuracy: 0.9115 - val_loss: 0.4856 - val_accuracy: 0.8183\n",
      "Epoch 12/50\n",
      "4806/4807 [============================>.] - ETA: 0s - loss: 0.1975 - accuracy: 0.9163\n",
      "Epoch 00012: loss improved from 0.20795 to 0.19746, saving model to vgg19_model_first.h5\n",
      "4807/4807 [==============================] - 2356s 490ms/step - loss: 0.1975 - accuracy: 0.9164 - val_loss: 0.6720 - val_accuracy: 0.7919\n",
      "Epoch 13/50\n",
      "4806/4807 [============================>.] - ETA: 0s - loss: 0.1850 - accuracy: 0.9223\n",
      "Epoch 00013: loss improved from 0.19746 to 0.18500, saving model to vgg19_model_first.h5\n",
      "4807/4807 [==============================] - 3163s 658ms/step - loss: 0.1850 - accuracy: 0.9223 - val_loss: 0.6762 - val_accuracy: 0.7987\n",
      "Epoch 14/50\n",
      "4806/4807 [============================>.] - ETA: 0s - loss: 0.1748 - accuracy: 0.9265\n",
      "Epoch 00014: loss improved from 0.18500 to 0.17482, saving model to vgg19_model_first.h5\n",
      "4807/4807 [==============================] - 2410s 501ms/step - loss: 0.1748 - accuracy: 0.9265 - val_loss: 0.4278 - val_accuracy: 0.8504\n",
      "Epoch 15/50\n",
      "4806/4807 [============================>.] - ETA: 0s - loss: 0.1638 - accuracy: 0.9321\n",
      "Epoch 00015: loss improved from 0.17482 to 0.16377, saving model to vgg19_model_first.h5\n",
      "4807/4807 [==============================] - 2387s 497ms/step - loss: 0.1638 - accuracy: 0.9321 - val_loss: 0.5997 - val_accuracy: 0.8143\n",
      "Epoch 16/50\n",
      "4806/4807 [============================>.] - ETA: 0s - loss: 0.1565 - accuracy: 0.9349\n",
      "Epoch 00016: loss improved from 0.16377 to 0.15654, saving model to vgg19_model_first.h5\n",
      "4807/4807 [==============================] - 2387s 497ms/step - loss: 0.1565 - accuracy: 0.9349 - val_loss: 0.5981 - val_accuracy: 0.8236\n",
      "Epoch 17/50\n",
      "4806/4807 [============================>.] - ETA: 0s - loss: 0.1463 - accuracy: 0.9397\n",
      "Epoch 00017: loss improved from 0.15654 to 0.14629, saving model to vgg19_model_first.h5\n",
      "4807/4807 [==============================] - 2396s 498ms/step - loss: 0.1463 - accuracy: 0.9397 - val_loss: 0.4146 - val_accuracy: 0.8539\n",
      "Epoch 18/50\n",
      "4806/4807 [============================>.] - ETA: 0s - loss: 0.1394 - accuracy: 0.9429\n",
      "Epoch 00018: loss improved from 0.14629 to 0.13942, saving model to vgg19_model_first.h5\n",
      "4807/4807 [==============================] - 2401s 500ms/step - loss: 0.1394 - accuracy: 0.9429 - val_loss: 0.6764 - val_accuracy: 0.8205\n",
      "Epoch 19/50\n",
      "4806/4807 [============================>.] - ETA: 0s - loss: 0.1316 - accuracy: 0.9461\n",
      "Epoch 00019: loss improved from 0.13942 to 0.13162, saving model to vgg19_model_first.h5\n",
      "4807/4807 [==============================] - 2404s 500ms/step - loss: 0.1316 - accuracy: 0.9461 - val_loss: 0.7042 - val_accuracy: 0.8045\n",
      "Epoch 20/50\n",
      "4806/4807 [============================>.] - ETA: 0s - loss: 0.1237 - accuracy: 0.9493\n",
      "Epoch 00020: loss improved from 0.13162 to 0.12369, saving model to vgg19_model_first.h5\n",
      "4807/4807 [==============================] - 2405s 500ms/step - loss: 0.1237 - accuracy: 0.9493 - val_loss: 0.6957 - val_accuracy: 0.8111\n",
      "Epoch 21/50\n",
      "4806/4807 [============================>.] - ETA: 0s - loss: 0.1199 - accuracy: 0.9508\n",
      "Epoch 00021: loss improved from 0.12369 to 0.11987, saving model to vgg19_model_first.h5\n",
      "4807/4807 [==============================] - 2407s 501ms/step - loss: 0.1199 - accuracy: 0.9508 - val_loss: 0.5918 - val_accuracy: 0.8418\n",
      "Epoch 22/50\n",
      "4806/4807 [============================>.] - ETA: 0s - loss: 0.1119 - accuracy: 0.9543\n",
      "Epoch 00022: loss improved from 0.11987 to 0.11185, saving model to vgg19_model_first.h5\n",
      "4807/4807 [==============================] - 2408s 501ms/step - loss: 0.1118 - accuracy: 0.9543 - val_loss: 0.6539 - val_accuracy: 0.8295\n",
      "Epoch 23/50\n",
      "4806/4807 [============================>.] - ETA: 0s - loss: 0.1064 - accuracy: 0.9570\n",
      "Epoch 00023: loss improved from 0.11185 to 0.10639, saving model to vgg19_model_first.h5\n",
      "4807/4807 [==============================] - 2409s 501ms/step - loss: 0.1064 - accuracy: 0.9570 - val_loss: 0.6998 - val_accuracy: 0.8199\n",
      "Epoch 24/50\n",
      "4806/4807 [============================>.] - ETA: 0s - loss: 0.1017 - accuracy: 0.9587\n",
      "Epoch 00024: loss improved from 0.10639 to 0.10167, saving model to vgg19_model_first.h5\n",
      "4807/4807 [==============================] - 2451s 510ms/step - loss: 0.1017 - accuracy: 0.9587 - val_loss: 0.7081 - val_accuracy: 0.8370\n",
      "Epoch 25/50\n",
      "4806/4807 [============================>.] - ETA: 0s - loss: 0.0972 - accuracy: 0.9610\n",
      "Epoch 00025: loss improved from 0.10167 to 0.09727, saving model to vgg19_model_first.h5\n"
     ]
    },
    {
     "name": "stdout",
     "output_type": "stream",
     "text": [
      "4807/4807 [==============================] - 2406s 501ms/step - loss: 0.0973 - accuracy: 0.9610 - val_loss: 0.5546 - val_accuracy: 0.8504\n",
      "Epoch 26/50\n",
      "4806/4807 [============================>.] - ETA: 0s - loss: 0.0933 - accuracy: 0.9626\n",
      "Epoch 00026: loss improved from 0.09727 to 0.09335, saving model to vgg19_model_first.h5\n",
      "4807/4807 [==============================] - 2408s 501ms/step - loss: 0.0933 - accuracy: 0.9626 - val_loss: 0.8418 - val_accuracy: 0.8177\n",
      "Epoch 27/50\n",
      "4806/4807 [============================>.] - ETA: 0s - loss: 0.0872 - accuracy: 0.9653\n",
      "Epoch 00027: loss improved from 0.09335 to 0.08726, saving model to vgg19_model_first.h5\n",
      "4807/4807 [==============================] - 2444s 508ms/step - loss: 0.0873 - accuracy: 0.9653 - val_loss: 0.7280 - val_accuracy: 0.8327\n",
      "Epoch 28/50\n",
      "4806/4807 [============================>.] - ETA: 0s - loss: 0.0841 - accuracy: 0.9667\n",
      "Epoch 00028: loss improved from 0.08726 to 0.08407, saving model to vgg19_model_first.h5\n",
      "4807/4807 [==============================] - 2407s 501ms/step - loss: 0.0841 - accuracy: 0.9667 - val_loss: 0.7323 - val_accuracy: 0.8335\n",
      "Epoch 29/50\n",
      "4806/4807 [============================>.] - ETA: 0s - loss: 0.0796 - accuracy: 0.9690\n",
      "Epoch 00029: loss improved from 0.08407 to 0.07957, saving model to vgg19_model_first.h5\n",
      "4807/4807 [==============================] - 2450s 510ms/step - loss: 0.0796 - accuracy: 0.9690 - val_loss: 1.2507 - val_accuracy: 0.7885\n",
      "Epoch 30/50\n",
      "4806/4807 [============================>.] - ETA: 0s - loss: 0.0792 - accuracy: 0.9688\n",
      "Epoch 00030: loss improved from 0.07957 to 0.07921, saving model to vgg19_model_first.h5\n",
      "4807/4807 [==============================] - 2408s 501ms/step - loss: 0.0792 - accuracy: 0.9688 - val_loss: 0.6945 - val_accuracy: 0.8425\n",
      "Epoch 31/50\n",
      "4806/4807 [============================>.] - ETA: 0s - loss: 0.0740 - accuracy: 0.9705\n",
      "Epoch 00031: loss improved from 0.07921 to 0.07401, saving model to vgg19_model_first.h5\n",
      "4807/4807 [==============================] - 2867s 596ms/step - loss: 0.0740 - accuracy: 0.9705 - val_loss: 0.5829 - val_accuracy: 0.8482\n",
      "Epoch 32/50\n",
      "4806/4807 [============================>.] - ETA: 0s - loss: 0.0713 - accuracy: 0.9724\n",
      "Epoch 00032: loss improved from 0.07401 to 0.07128, saving model to vgg19_model_first.h5\n",
      "4807/4807 [==============================] - 2409s 501ms/step - loss: 0.0713 - accuracy: 0.9724 - val_loss: 0.7822 - val_accuracy: 0.8315\n",
      "Epoch 33/50\n",
      "4806/4807 [============================>.] - ETA: 0s - loss: 0.0681 - accuracy: 0.9734\n",
      "Epoch 00033: loss improved from 0.07128 to 0.06812, saving model to vgg19_model_first.h5\n",
      "4807/4807 [==============================] - 2409s 501ms/step - loss: 0.0681 - accuracy: 0.9734 - val_loss: 0.7004 - val_accuracy: 0.8482\n",
      "Epoch 34/50\n",
      "4806/4807 [============================>.] - ETA: 0s - loss: 0.0662 - accuracy: 0.9748\n",
      "Epoch 00034: loss improved from 0.06812 to 0.06618, saving model to vgg19_model_first.h5\n",
      "4807/4807 [==============================] - 2407s 501ms/step - loss: 0.0662 - accuracy: 0.9748 - val_loss: 0.6919 - val_accuracy: 0.8524\n",
      "Epoch 35/50\n",
      "4806/4807 [============================>.] - ETA: 0s - loss: 0.0638 - accuracy: 0.9751\n",
      "Epoch 00035: loss improved from 0.06618 to 0.06377, saving model to vgg19_model_first.h5\n",
      "4807/4807 [==============================] - 2407s 501ms/step - loss: 0.0638 - accuracy: 0.9751 - val_loss: 0.8122 - val_accuracy: 0.8301\n",
      "Epoch 36/50\n",
      "4806/4807 [============================>.] - ETA: 0s - loss: 0.0606 - accuracy: 0.9763\n",
      "Epoch 00036: loss improved from 0.06377 to 0.06064, saving model to vgg19_model_first.h5\n",
      "4807/4807 [==============================] - 2405s 500ms/step - loss: 0.0606 - accuracy: 0.9763 - val_loss: 0.6406 - val_accuracy: 0.8541\n",
      "Epoch 37/50\n",
      "4806/4807 [============================>.] - ETA: 0s - loss: 0.0577 - accuracy: 0.9775\n",
      "Epoch 00037: loss improved from 0.06064 to 0.05770, saving model to vgg19_model_first.h5\n",
      "4807/4807 [==============================] - 2403s 500ms/step - loss: 0.0577 - accuracy: 0.9775 - val_loss: 0.8543 - val_accuracy: 0.8347\n",
      "Epoch 38/50\n",
      "4806/4807 [============================>.] - ETA: 0s - loss: 0.0577 - accuracy: 0.9779\n",
      "Epoch 00038: loss did not improve from 0.05770\n",
      "4807/4807 [==============================] - 2400s 499ms/step - loss: 0.0577 - accuracy: 0.9779 - val_loss: 0.9522 - val_accuracy: 0.8303\n",
      "Epoch 39/50\n",
      "4806/4807 [============================>.] - ETA: 0s - loss: 0.0557 - accuracy: 0.9787\n",
      "Epoch 00039: loss improved from 0.05770 to 0.05571, saving model to vgg19_model_first.h5\n",
      "4807/4807 [==============================] - 2399s 499ms/step - loss: 0.0557 - accuracy: 0.9787 - val_loss: 0.8468 - val_accuracy: 0.8326\n",
      "Epoch 40/50\n",
      "4806/4807 [============================>.] - ETA: 0s - loss: 0.0538 - accuracy: 0.9795\n",
      "Epoch 00040: loss improved from 0.05571 to 0.05377, saving model to vgg19_model_first.h5\n",
      "4807/4807 [==============================] - 2398s 499ms/step - loss: 0.0538 - accuracy: 0.9795 - val_loss: 0.6882 - val_accuracy: 0.8515\n",
      "Epoch 41/50\n",
      "4806/4807 [============================>.] - ETA: 0s - loss: 0.0527 - accuracy: 0.9803\n",
      "Epoch 00041: loss improved from 0.05377 to 0.05272, saving model to vgg19_model_first.h5\n",
      "4807/4807 [==============================] - 2397s 499ms/step - loss: 0.0527 - accuracy: 0.9803 - val_loss: 0.5333 - val_accuracy: 0.8747\n",
      "Epoch 42/50\n",
      "4806/4807 [============================>.] - ETA: 0s - loss: 0.0500 - accuracy: 0.9809\n",
      "Epoch 00042: loss improved from 0.05272 to 0.05003, saving model to vgg19_model_first.h5\n",
      "4807/4807 [==============================] - 2393s 498ms/step - loss: 0.0500 - accuracy: 0.9809 - val_loss: 0.7483 - val_accuracy: 0.8512\n",
      "Epoch 43/50\n",
      "4806/4807 [============================>.] - ETA: 0s - loss: 0.0493 - accuracy: 0.9815\n",
      "Epoch 00043: loss improved from 0.05003 to 0.04933, saving model to vgg19_model_first.h5\n",
      "4807/4807 [==============================] - 2391s 497ms/step - loss: 0.0493 - accuracy: 0.9815 - val_loss: 0.7197 - val_accuracy: 0.8492\n",
      "Epoch 44/50\n",
      "4806/4807 [============================>.] - ETA: 0s - loss: 0.0466 - accuracy: 0.9823\n",
      "Epoch 00044: loss improved from 0.04933 to 0.04662, saving model to vgg19_model_first.h5\n",
      "4807/4807 [==============================] - 2385s 496ms/step - loss: 0.0466 - accuracy: 0.9823 - val_loss: 0.9115 - val_accuracy: 0.8199\n",
      "Epoch 45/50\n",
      "4806/4807 [============================>.] - ETA: 0s - loss: 0.0448 - accuracy: 0.9830\n",
      "Epoch 00045: loss improved from 0.04662 to 0.04483, saving model to vgg19_model_first.h5\n",
      "4807/4807 [==============================] - 2384s 496ms/step - loss: 0.0448 - accuracy: 0.9830 - val_loss: 0.8302 - val_accuracy: 0.8438\n",
      "Epoch 46/50\n",
      "4806/4807 [============================>.] - ETA: 0s - loss: 0.0443 - accuracy: 0.9837\n",
      "Epoch 00046: loss improved from 0.04483 to 0.04429, saving model to vgg19_model_first.h5\n",
      "4807/4807 [==============================] - 2393s 498ms/step - loss: 0.0443 - accuracy: 0.9837 - val_loss: 0.5858 - val_accuracy: 0.8805\n",
      "Epoch 47/50\n",
      "4806/4807 [============================>.] - ETA: 0s - loss: 0.0445 - accuracy: 0.9834\n",
      "Epoch 00047: loss did not improve from 0.04429\n",
      "4807/4807 [==============================] - 2387s 497ms/step - loss: 0.0445 - accuracy: 0.9834 - val_loss: 0.7276 - val_accuracy: 0.8547\n",
      "Epoch 48/50\n",
      "4806/4807 [============================>.] - ETA: 0s - loss: 0.0435 - accuracy: 0.9838\n",
      "Epoch 00048: loss improved from 0.04429 to 0.04349, saving model to vgg19_model_first.h5\n",
      "4807/4807 [==============================] - 2386s 496ms/step - loss: 0.0435 - accuracy: 0.9838 - val_loss: 0.7141 - val_accuracy: 0.8548\n",
      "Epoch 49/50\n",
      "1537/4807 [========>.....................] - ETA: 26:23 - loss: 0.0423 - accuracy: 0.9845"
     ]
    }
   ],
   "source": [
    "history_1 = model.fit(\n",
    "    train_generator, \n",
    "    epochs = 50,\n",
    "    steps_per_epoch = nb_train_samples//batch_size,\n",
    "    validation_data = valid_generator, \n",
    "    validation_steps = nb_valid_samples//batch_size,\n",
    "    verbose = 1,\n",
    "    callbacks = callbacks,\n",
    "    shuffle = True\n",
    ")"
   ]
  },
  {
   "cell_type": "code",
   "execution_count": 15,
   "metadata": {},
   "outputs": [
    {
     "data": {
      "image/png": "[encoded data removed]",
      "text/plain": [
       "<Figure size 432x288 with 1 Axes>"
      ]
     },
     "metadata": {},
     "output_type": "display_data"
    },
    {
     "data": {
      "image/png": "[encoded data removed]",
      "text/plain": [
       "<Figure size 432x288 with 1 Axes>"
      ]
     },
     "metadata": {},
     "output_type": "display_data"
    }
   ],
   "source": [
    "plt.subplot()\n",
    "plt.rcParams['figure.figsize'] = (6.0, 4.0)\n",
    "plt.title('vgg19_first Model Accuracy')\n",
    "plt.plot(history_1.history['accuracy'])\n",
    "plt.plot(history_1.history['val_accuracy'])\n",
    "plt.ylabel('Accuracy')\n",
    "plt.xlabel('Epochs')\n",
    "plt.legend(['Training Accuracy','Validation Accuracy'])\n",
    "plt.savefig('vgg19_first_accuracy.png', transparent= False, bbox_inches= 'tight', dpi= 400)\n",
    "plt.show()\n",
    "\n",
    "plt.subplot()\n",
    "plt.title('Finetuned Model Loss')\n",
    "plt.plot(history_1.history['loss'])\n",
    "plt.plot(history_1.history['val_loss'])\n",
    "plt.ylabel('Loss')\n",
    "plt.xlabel('Epochs')\n",
    "plt.legend(['Training Loss','Validation Loss'])\n",
    "plt.savefig('vgg19_first_loss.png', transparent= False, bbox_inches= 'tight', dpi= 400)\n",
    "plt.show()"
   ]
  },
  {
   "cell_type": "markdown",
   "metadata": {},
   "source": [
    "<h2> Testing Phase </h2>"
   ]
  },
  {
   "cell_type": "code",
   "execution_count": 16,
   "metadata": {},
   "outputs": [
    {
     "name": "stdout",
     "output_type": "stream",
     "text": [
      "WARNING:tensorflow:sample_weight modes were coerced from\n",
      "  ...\n",
      "    to  \n",
      "  ['...']\n",
      "602/602 [==============================] - 89s 147ms/step - loss: 0.5854 - accuracy: 0.8728\n",
      "Test Loss:  0.5854380857313525\n",
      "Test Accuracy:  0.87282276\n"
     ]
    }
   ],
   "source": [
    "(eval_loss, eval_accuracy) = model.evaluate(test_generator, verbose= 1)\n",
    "print('Test Loss: ', eval_loss)\n",
    "print('Test Accuracy: ', eval_accuracy)"
   ]
  },
  {
   "cell_type": "markdown",
   "metadata": {},
   "source": [
    "<h2> Statistical Evaluation </h2>"
   ]
  },
  {
   "cell_type": "code",
   "execution_count": 17,
   "metadata": {},
   "outputs": [
    {
     "data": {
      "image/png": "[encoded data removed]",
      "text/plain": [
       "<Figure size 720x576 with 2 Axes>"
      ]
     },
     "metadata": {},
     "output_type": "display_data"
    },
    {
     "name": "stdout",
     "output_type": "stream",
     "text": [
      "Classification Report of VGG-19 Architecture Model\n",
      "\n",
      "              precision    recall  f1-score   support\n",
      "\n",
      "      MSIMUT       0.92      0.74      0.82      7505\n",
      "         MSS       0.85      0.96      0.90     11728\n",
      "\n",
      "    accuracy                           0.87     19233\n",
      "   macro avg       0.89      0.85      0.86     19233\n",
      "weighted avg       0.88      0.87      0.87     19233\n",
      "\n"
     ]
    }
   ],
   "source": [
    "Y_pred = model.predict(test_generator)\n",
    "y_pred = np.argmax(Y_pred, axis=1)\n",
    "cm = confusion_matrix(test_generator.classes, y_pred)\n",
    "df_cm = pd.DataFrame(cm, list(test_generator.class_indices.keys()), list(test_generator.class_indices.keys()))\n",
    "fig, ax = plt.subplots(figsize=(10,8))\n",
    "sn.set(font_scale=1.4) # for label size\n",
    "sn.heatmap(df_cm, annot=True, annot_kws={\"size\": 16}, cmap=plt.cm.Blues)\n",
    "plt.title('Confusion Matrix\\n')\n",
    "plt.savefig('confusion_matrix.png', transparent= False, bbox_inches= 'tight', dpi= 400)\n",
    "plt.show()\n",
    "\n",
    "print('Classification Report of VGG-19 Architecture Model\\n')\n",
    "target_names = list(test_generator.class_indices.keys())\n",
    "print(classification_report(test_generator.classes, y_pred, target_names=target_names))"
   ]
  },
  {
   "cell_type": "code",
   "execution_count": 18,
   "metadata": {},
   "outputs": [
    {
     "name": "stdout",
     "output_type": "stream",
     "text": [
      "Found 19233 images belonging to 2 classes.\n"
     ]
    }
   ],
   "source": [
    "test_X, test_Y = next(valid_test_datagen.flow_from_directory(\n",
    "    test_data_dir,  \n",
    "    target_size= (img_width, img_height), \n",
    "    color_mode= 'rgb',\n",
    "    batch_size= 968,        \n",
    "    class_mode= 'categorical',\n",
    "    shuffle= False, ))\n",
    "\n",
    "test_y = np.argmax(test_Y, axis=1)"
   ]
  },
  {
   "cell_type": "code",
   "execution_count": null,
   "metadata": {},
   "outputs": [],
   "source": []
  },
  {
   "cell_type": "code",
   "execution_count": 19,
   "metadata": {},
   "outputs": [
    {
     "name": "stdout",
     "output_type": "stream",
     "text": [
      "Cohens kappa: 0.000000\n"
     ]
    },
    {
     "ename": "IndexError",
     "evalue": "index 2 is out of bounds for axis 1 with size 2",
     "output_type": "error",
     "traceback": [
      "\u001b[1;31m---------------------------------------------------------------------------\u001b[0m",
      "\u001b[1;31mIndexError\u001b[0m                                Traceback (most recent call last)",
      "\u001b[1;32m<ipython-input-19-e7b568e44857>\u001b[0m in \u001b[0;36m<module>\u001b[1;34m\u001b[0m\n\u001b[0;32m      8\u001b[0m \u001b[1;33m\u001b[0m\u001b[0m\n\u001b[0;32m      9\u001b[0m \u001b[1;31m# ROC\u001b[0m\u001b[1;33m\u001b[0m\u001b[1;33m\u001b[0m\u001b[1;33m\u001b[0m\u001b[0m\n\u001b[1;32m---> 10\u001b[1;33m \u001b[0mfpr\u001b[0m\u001b[1;33m,\u001b[0m \u001b[0mtpr\u001b[0m\u001b[1;33m,\u001b[0m \u001b[0mthresholds\u001b[0m \u001b[1;33m=\u001b[0m \u001b[0mroc_curve\u001b[0m\u001b[1;33m(\u001b[0m\u001b[0mtest_Y\u001b[0m\u001b[1;33m[\u001b[0m\u001b[1;33m:\u001b[0m\u001b[1;33m,\u001b[0m \u001b[1;36m2\u001b[0m\u001b[1;33m]\u001b[0m\u001b[1;33m,\u001b[0m \u001b[0mY_pred\u001b[0m\u001b[1;33m[\u001b[0m\u001b[1;33m:\u001b[0m\u001b[1;33m,\u001b[0m \u001b[1;36m2\u001b[0m\u001b[1;33m]\u001b[0m\u001b[1;33m)\u001b[0m\u001b[1;33m\u001b[0m\u001b[1;33m\u001b[0m\u001b[0m\n\u001b[0m\u001b[0;32m     11\u001b[0m \u001b[1;33m\u001b[0m\u001b[0m\n\u001b[0;32m     12\u001b[0m \u001b[1;33m\u001b[0m\u001b[0m\n",
      "\u001b[1;31mIndexError\u001b[0m: index 2 is out of bounds for axis 1 with size 2"
     ]
    }
   ],
   "source": [
    "Y_pred = model.predict(test_generator)\n",
    "yhat_classes = model.predict_classes(test_X)\n",
    "\n",
    "# kappa\n",
    "kappa = cohen_kappa_score(test_y, yhat_classes)\n",
    "print('Cohens kappa: %f' % kappa)\n",
    "\n",
    "\n",
    "# ROC\n",
    "fpr, tpr, thresholds = roc_curve(test_Y[:, 2], Y_pred[:, 2])\n",
    "\n",
    "\n",
    "# # ROC AUC\n",
    "# auc = roc_auc_score(test_Y, Y_pred)\n",
    "# print('ROC AUC: %f' % auc)"
   ]
  },
  {
   "cell_type": "code",
   "execution_count": null,
   "metadata": {},
   "outputs": [],
   "source": [
    "plt.figure()\n",
    "plt.plot(fpr, tpr)\n",
    "plt.plot([0, 1], [0, 1], 'k--')\n",
    "plt.xlim([0.0, 1.0])\n",
    "plt.ylim([0.0, 1.05])\n",
    "plt.xlabel('1-Specificity')\n",
    "plt.ylabel('Sensitivity')\n",
    "plt.title('Receiver operating characteristic example')\n",
    "plt.legend(loc=\"lower right\")\n",
    "plt.show()"
   ]
  },
  {
   "cell_type": "code",
   "execution_count": null,
   "metadata": {},
   "outputs": [],
   "source": [
    "from prettytable import PrettyTable\n",
    "\n",
    "pretty = PrettyTable()\n",
    "\n",
    "pretty.field_names = ['Metrices','Values']\n",
    "\n",
    "pretty.add_row(['Accuracy Testing', '0.9917'])\n",
    "pretty.add_row(['ROC AUC', '0.9997'])\n",
    "pretty.add_row(['Cohens Kappa', '0.9989'])\n",
    "pretty.add_row(['Precision','0.99'])\n",
    "pretty.add_row(['Recall','0.99'])\n",
    "pretty.add_row(['F1-score','0.99'])\n",
    "\n",
    "print(pretty)"
   ]
  },
  {
   "cell_type": "code",
   "execution_count": null,
   "metadata": {},
   "outputs": [],
   "source": []
  }
 ],
 "metadata": {
  "kernelspec": {
   "display_name": "Python 3",
   "language": "python",
   "name": "python3"
  },
  "language_info": {
   "codemirror_mode": {
    "name": "ipython",
    "version": 3
   },
   "file_extension": ".py",
   "mimetype": "text/x-python",
   "name": "python",
   "nbconvert_exporter": "python",
   "pygments_lexer": "ipython3",
   "version": "3.7.9"
  }
 },
 "nbformat": 4,
 "nbformat_minor": 4
}
